{
 "cells": [
  {
   "cell_type": "code",
   "execution_count": 1,
   "id": "318408fe",
   "metadata": {},
   "outputs": [],
   "source": [
    "import torch\n",
    "import torch.nn as nn\n",
    "from torch.nn import functional as F"
   ]
  },
  {
   "cell_type": "code",
   "execution_count": 2,
   "id": "28b40050",
   "metadata": {},
   "outputs": [
    {
     "data": {
      "text/plain": [
       "1115394"
      ]
     },
     "execution_count": 2,
     "metadata": {},
     "output_type": "execute_result"
    }
   ],
   "source": [
    "# open, read, and close text file\n",
    "with open('/users/salah/documents/mini-gpt/data/tiny-shakespeare.txt', 'r', encoding='utf-8') as file:\n",
    "    text = file.read()\n",
    "    \n",
    "len(text)"
   ]
  },
  {
   "cell_type": "code",
   "execution_count": 3,
   "id": "9eb670a9",
   "metadata": {},
   "outputs": [
    {
     "name": "stdout",
     "output_type": "stream",
     "text": [
      "['\\n', ' ', '!', '$', '&', \"'\", ',', '-', '.', '3', ':', ';', '?', 'A', 'B', 'C', 'D', 'E', 'F', 'G', 'H', 'I', 'J', 'K', 'L', 'M', 'N', 'O', 'P', 'Q', 'R', 'S', 'T', 'U', 'V', 'W', 'X', 'Y', 'Z', 'a', 'b', 'c', 'd', 'e', 'f', 'g', 'h', 'i', 'j', 'k', 'l', 'm', 'n', 'o', 'p', 'q', 'r', 's', 't', 'u', 'v', 'w', 'x', 'y', 'z']\n",
      "65\n",
      "{'\\n': 0, ' ': 1, '!': 2, '$': 3, '&': 4, \"'\": 5, ',': 6, '-': 7, '.': 8, '3': 9, ':': 10, ';': 11, '?': 12, 'A': 13, 'B': 14, 'C': 15, 'D': 16, 'E': 17, 'F': 18, 'G': 19, 'H': 20, 'I': 21, 'J': 22, 'K': 23, 'L': 24, 'M': 25, 'N': 26, 'O': 27, 'P': 28, 'Q': 29, 'R': 30, 'S': 31, 'T': 32, 'U': 33, 'V': 34, 'W': 35, 'X': 36, 'Y': 37, 'Z': 38, 'a': 39, 'b': 40, 'c': 41, 'd': 42, 'e': 43, 'f': 44, 'g': 45, 'h': 46, 'i': 47, 'j': 48, 'k': 49, 'l': 50, 'm': 51, 'n': 52, 'o': 53, 'p': 54, 'q': 55, 'r': 56, 's': 57, 't': 58, 'u': 59, 'v': 60, 'w': 61, 'x': 62, 'y': 63, 'z': 64}\n",
      "{0: '\\n', 1: ' ', 2: '!', 3: '$', 4: '&', 5: \"'\", 6: ',', 7: '-', 8: '.', 9: '3', 10: ':', 11: ';', 12: '?', 13: 'A', 14: 'B', 15: 'C', 16: 'D', 17: 'E', 18: 'F', 19: 'G', 20: 'H', 21: 'I', 22: 'J', 23: 'K', 24: 'L', 25: 'M', 26: 'N', 27: 'O', 28: 'P', 29: 'Q', 30: 'R', 31: 'S', 32: 'T', 33: 'U', 34: 'V', 35: 'W', 36: 'X', 37: 'Y', 38: 'Z', 39: 'a', 40: 'b', 41: 'c', 42: 'd', 43: 'e', 44: 'f', 45: 'g', 46: 'h', 47: 'i', 48: 'j', 49: 'k', 50: 'l', 51: 'm', 52: 'n', 53: 'o', 54: 'p', 55: 'q', 56: 'r', 57: 's', 58: 't', 59: 'u', 60: 'v', 61: 'w', 62: 'x', 63: 'y', 64: 'z'}\n"
     ]
    }
   ],
   "source": [
    "# get unique characters from text\n",
    "chrs = sorted(list(set(text)))\n",
    "vocab_size = len(chrs)\n",
    "\n",
    "# map characters to integers\n",
    "chr_to_int = {ch: i for i, ch in enumerate(chrs)}\n",
    "  \n",
    "# map integers to characters  \n",
    "int_to_chr = {i: ch for i, ch in enumerate(chrs)}\n",
    "    \n",
    "print(chrs)\n",
    "print(vocab_size)\n",
    "print(chr_to_int)\n",
    "print(int_to_chr)"
   ]
  },
  {
   "cell_type": "code",
   "execution_count": 4,
   "id": "fbcac44f",
   "metadata": {},
   "outputs": [
    {
     "name": "stdout",
     "output_type": "stream",
     "text": [
      "[46, 43, 50, 50, 53, 1, 61, 53, 56, 50, 42, 8]\n",
      "hello world.\n"
     ]
    }
   ],
   "source": [
    "def encode(text: str) -> list[int]:\n",
    "    \"\"\"Tokenize characters in text to integers.\n",
    "\n",
    "    Args:\n",
    "        text (str): Any string.\n",
    "    Returns:\n",
    "        list[int]: Token list of integers.\n",
    "    \"\"\"\n",
    "    return [chr_to_int[ch] for ch in text]\n",
    "    \n",
    "\n",
    "def decode(tokens: list[int]) -> str:\n",
    "    \"\"\"Revert token integers to text.\n",
    "\n",
    "    Args:\n",
    "        tokens (list[int]): List of token integers.\n",
    "\n",
    "    Returns:\n",
    "        str: Text derived from tokens.\n",
    "    \"\"\"\n",
    "    return ''.join([int_to_chr[i] for i in tokens])\n",
    "\n",
    "print(encode('hello world.'))\n",
    "print(decode(encode('hello world.')))"
   ]
  },
  {
   "cell_type": "code",
   "execution_count": 5,
   "id": "ff5e62d2",
   "metadata": {},
   "outputs": [
    {
     "name": "stdout",
     "output_type": "stream",
     "text": [
      "torch.Size([1115394]) torch.int64\n"
     ]
    }
   ],
   "source": [
    "data = torch.tensor(encode(text), dtype=torch.long)\n",
    "print(data.shape, data.dtype)"
   ]
  },
  {
   "cell_type": "code",
   "execution_count": 6,
   "id": "5cf12200",
   "metadata": {},
   "outputs": [],
   "source": [
    "# split token data into train & validation sets\n",
    "n = int(0.9 * len(data))\n",
    "train = data[:n]\n",
    "valid = data[n:]"
   ]
  },
  {
   "cell_type": "code",
   "execution_count": 7,
   "id": "d19b0db4",
   "metadata": {},
   "outputs": [
    {
     "name": "stdout",
     "output_type": "stream",
     "text": [
      "tensor([[24, 43, 58,  5, 57,  1, 46, 43],\n",
      "        [44, 53, 56,  1, 58, 46, 39, 58],\n",
      "        [52, 58,  1, 58, 46, 39, 58,  1],\n",
      "        [25, 17, 27, 10,  0, 21,  1, 54]]) tensor([[43, 58,  5, 57,  1, 46, 43, 39],\n",
      "        [53, 56,  1, 58, 46, 39, 58,  1],\n",
      "        [58,  1, 58, 46, 39, 58,  1, 46],\n",
      "        [17, 27, 10,  0, 21,  1, 54, 39]])\n"
     ]
    }
   ],
   "source": [
    "torch.manual_seed(1337)\n",
    "\n",
    "def get_batch(data: torch.tensor, batch_size: int, block_size: int) -> tuple[torch.tensor]:\n",
    "    \"\"\"Returns \n",
    "\n",
    "    Args:\n",
    "        data (torch.tensor): Token tensor.\n",
    "        batch_size (int): Number of batches of contexts to be processed.\n",
    "        block_size (int): Length of the context of characters.\n",
    "\n",
    "    Returns:\n",
    "        tuple[torch.tensor]: Stacked context and target tensors of dimension block_size x block_size. \n",
    "    \"\"\"\n",
    "    ix = torch.randint(high=len(data) - block_size, size=(batch_size,))\n",
    "    j, k = [], []\n",
    "    for i in ix:\n",
    "        j.append(data[i:i+block_size])\n",
    "        k.append(data[i+1:i+block_size+1])\n",
    "    x = torch.stack(j)\n",
    "    y = torch.stack(k)\n",
    "    return x, y\n",
    "\n",
    "x_train, y_train = get_batch(data=train, batch_size=4, block_size=8)\n",
    "print(x_train, y_train)"
   ]
  },
  {
   "cell_type": "code",
   "execution_count": 8,
   "id": "9cbb7408",
   "metadata": {},
   "outputs": [],
   "source": [
    "torch.manual_seed(1337)\n",
    "\n",
    "class BigramLanguageModel(nn.Module):\n",
    "    \"\"\"_summary_\n",
    "\n",
    "    Superclass: nn.Module\n",
    "    \"\"\"\n",
    "    \n",
    "    def __init__(self, vocab_size: int) -> None:\n",
    "        \"\"\"Initialize a BigramLanguageModel with a token embedding table.\n",
    "\n",
    "        Args:\n",
    "            vocab_size (int): _description_\n",
    "        \"\"\"\n",
    "        super().__init__()\n",
    "        self.token_embedding_table = nn.Embedding(vocab_size, vocab_size)\n",
    "        \n",
    "    def forward(self, idx, targets=None):\n",
    "        \"\"\"_summary_\n",
    "\n",
    "        Args:\n",
    "            idx (_type_): _description_\n",
    "            targets (_type_): _description_\n",
    "        \"\"\"\n",
    "        # idx & targets are batch x time dimensional tensor\n",
    "        logits = self.token_embedding_table(idx) # <- batch x time x channel dimensional\n",
    "        \n",
    "        if targets == None:\n",
    "            loss = None\n",
    "        else:\n",
    "            b, t, c = logits.shape\n",
    "            logits = logits.view(b*t, c)\n",
    "            targets = targets.view(b*t)\n",
    "            loss = F.cross_entropy(logits, targets) # <- expects batch x time dimensional only\n",
    "        \n",
    "        return logits, loss\n",
    "    \n",
    "    def generate(self, idx, max_new_tokens):\n",
    "        \"\"\"_summary_\n",
    "\n",
    "        Args:\n",
    "            idx (_type_): _description_\n",
    "            max_new_tokens (_type_): _description_\n",
    "        \"\"\"\n",
    "        # idx is b x t array of indices in the current context\n",
    "        for _ in range(max_new_tokens):\n",
    "            # get predictions\n",
    "            logits, loss = self(idx)\n",
    "            # focus only on the last time step\n",
    "            logits = logits[:, -1, :] # becomes (b x c)\n",
    "            # apply Softmax to get probablities\n",
    "            probs = F.softmax(logits, dim=1) # (b x c)\n",
    "            # sample from distribution\n",
    "            idx_next = torch.multinomial(probs, num_samples=1) # (b x 1)\n",
    "            # append sampled idx to running sequence\n",
    "            idx = torch.cat((idx, idx_next), dim=1) # (b x t+1)\n",
    "        return idx\n",
    "            \n",
    "            "
   ]
  },
  {
   "cell_type": "code",
   "execution_count": 9,
   "id": "2e2dedc1",
   "metadata": {},
   "outputs": [
    {
     "name": "stdout",
     "output_type": "stream",
     "text": [
      "torch.Size([32, 65])\n",
      "tensor(4.8786, grad_fn=<NllLossBackward0>)\n",
      " -KIcLT;AcELMoTbvZv C?nq-QE33:CJqkOKH-q;:la!oiywkHjgChzbQ?u!3bLIgwevmyFJGUGp\n",
      "wnYWmnxKWWev-tDqXErVKLgJ\n"
     ]
    }
   ],
   "source": [
    "m = BigramLanguageModel(vocab_size)\n",
    "logits, loss = m(x_train, y_train)\n",
    "print(logits.shape)\n",
    "print(loss)\n",
    "\n",
    "idx = torch.ones((1, 1), dtype=torch.long)\n",
    "print(decode(m.generate(idx, max_new_tokens=100)[0].tolist()))"
   ]
  },
  {
   "cell_type": "code",
   "execution_count": 10,
   "id": "e45455b2",
   "metadata": {},
   "outputs": [],
   "source": [
    "# create optimizer\n",
    "optimizer = torch.optim.AdamW(m.parameters(), lr=1e-3)"
   ]
  },
  {
   "cell_type": "code",
   "execution_count": 11,
   "id": "1438b596",
   "metadata": {},
   "outputs": [
    {
     "name": "stdout",
     "output_type": "stream",
     "text": [
      "2.382369041442871\n"
     ]
    }
   ],
   "source": [
    "batch_size = 32\n",
    "for steps in range(10000):\n",
    "    \n",
    "    # sample a batch of data\n",
    "    x_train, y_train = get_batch(data=train, batch_size=batch_size, block_size=8)\n",
    "    \n",
    "    # evaluate the loss\n",
    "    logits, loss = m(x_train, y_train)\n",
    "    optimizer.zero_grad(set_to_none=True)\n",
    "    loss.backward()\n",
    "    optimizer.step()\n",
    "    \n",
    "print(loss.item())"
   ]
  },
  {
   "cell_type": "code",
   "execution_count": 12,
   "id": "7b44379f",
   "metadata": {},
   "outputs": [
    {
     "name": "stdout",
     "output_type": "stream",
     "text": [
      " lso br. ave aviasurf my, yxMPZI ivee iuedrd whar ksth y h bora s be hese, woweee; the! KI 'de, ulseecherd d o blllando;LUCEO, oraingofof win!\n",
      "RIfans picspeserer hee tha,\n",
      "TOFonk? me ain ckntoty ded. bo'llll st ta d:\n",
      "ELIS me hurf lal y, ma dus pe athouo\n",
      "BEY:! Indy; by s afreanoo adicererupa anse tecorro llaus a!\n",
      "OLeneerithesinthengove fal amas trr\n",
      "TI ar I t, mes, n IUSt my w, fredeeyove\n",
      "THek' merer, dd\n",
      "We ntem lud engitheso; cer ize helorowaginte the?\n",
      "Thak orblyoruldvicee chot, p,\n",
      "Bealivolde Th li\n"
     ]
    }
   ],
   "source": [
    "print(decode(m.generate(idx, max_new_tokens=500)[0].tolist()))"
   ]
  },
  {
   "cell_type": "markdown",
   "id": "56bd13b4",
   "metadata": {},
   "source": [
    "## Self-attention"
   ]
  },
  {
   "cell_type": "code",
   "execution_count": 13,
   "id": "6705771d",
   "metadata": {},
   "outputs": [
    {
     "data": {
      "text/plain": [
       "torch.Size([4, 8, 2])"
      ]
     },
     "execution_count": 13,
     "metadata": {},
     "output_type": "execute_result"
    }
   ],
   "source": [
    "torch.manual_seed(1337)\n",
    "\n",
    "b, t, c = 4, 8, 2\n",
    "x = torch.randn(b, t, c)\n",
    "x.shape"
   ]
  },
  {
   "cell_type": "code",
   "execution_count": 14,
   "id": "ca4e17d6",
   "metadata": {},
   "outputs": [
    {
     "name": "stdout",
     "output_type": "stream",
     "text": [
      "tensor([[ 0.1808, -0.0700],\n",
      "        [-0.3596, -0.9152],\n",
      "        [ 0.6258,  0.0255],\n",
      "        [ 0.9545,  0.0643],\n",
      "        [ 0.3612,  1.1679],\n",
      "        [-1.3499, -0.5102],\n",
      "        [ 0.2360, -0.2398],\n",
      "        [-0.9211,  1.5433]]) tensor([[ 0.1808, -0.0700],\n",
      "        [-0.0894, -0.4926],\n",
      "        [ 0.1490, -0.3199],\n",
      "        [ 0.3504, -0.2238],\n",
      "        [ 0.3525,  0.0545],\n",
      "        [ 0.0688, -0.0396],\n",
      "        [ 0.0927, -0.0682],\n",
      "        [-0.0341,  0.1332]])\n"
     ]
    }
   ],
   "source": [
    "## Weighted aggregation method 1\n",
    "\n",
    "xbow = torch.zeros((b, t, c)) # bow = bag of words, ie each token has additional features\n",
    "for i in range(b):\n",
    "    for j in range(t):\n",
    "        xprev = x[i, :j+1] # dim (t, c)\n",
    "        xbow[i, j] = torch.mean(xprev, dim=0)\n",
    "        \n",
    "print(x[0], xbow[0])"
   ]
  },
  {
   "cell_type": "code",
   "execution_count": 15,
   "id": "1685bca4",
   "metadata": {},
   "outputs": [
    {
     "name": "stdout",
     "output_type": "stream",
     "text": [
      "tensor([[5.0000, 7.0000],\n",
      "        [3.5000, 3.5000],\n",
      "        [4.0000, 3.3333]])\n"
     ]
    }
   ],
   "source": [
    "torch.manual_seed(1337)\n",
    "\n",
    "a = torch.tril(torch.ones(3, 3)) # get lower triangle including diagonal\n",
    "a = a / torch.sum(a, 1, keepdim=True) # create matrix of average weights\n",
    "b = torch.randint(0, 10, (3, 2)).float()\n",
    "c = a @ b\n",
    "\n",
    "print(c)\n"
   ]
  },
  {
   "cell_type": "code",
   "execution_count": 16,
   "id": "a28aea30",
   "metadata": {},
   "outputs": [
    {
     "data": {
      "text/plain": [
       "True"
      ]
     },
     "execution_count": 16,
     "metadata": {},
     "output_type": "execute_result"
    }
   ],
   "source": [
    "## Weighted aggregation method 2\n",
    "\n",
    "torch.manual_seed(1337)\n",
    "\n",
    "weights = torch.tril(torch.ones(t, t))\n",
    "weights = weights / weights.sum(1, keepdim=True)\n",
    "xbow2 = weights @ x # (t, t) @ (b, t, c) (pytorch)-> (b, t, t) @ (b, t, c) -> (b, t, c)\n",
    "torch.allclose(xbow, xbow2)"
   ]
  },
  {
   "cell_type": "code",
   "execution_count": 17,
   "id": "4d2bb0ef",
   "metadata": {},
   "outputs": [
    {
     "data": {
      "text/plain": [
       "True"
      ]
     },
     "execution_count": 17,
     "metadata": {},
     "output_type": "execute_result"
    }
   ],
   "source": [
    "## Weighted aggregation method 3\n",
    "\n",
    "torch.manual_seed(1337)\n",
    "\n",
    "tril = torch.tril(torch.ones(t, t))\n",
    "weights = torch.zeros(t, t)\n",
    "weights = weights.masked_fill(tril==0, float('-inf'))\n",
    "weights = F.softmax(weights, dim=1)\n",
    "xbow3 = weights @ x\n",
    "torch.allclose(xbow, xbow3)"
   ]
  },
  {
   "cell_type": "code",
   "execution_count": 18,
   "id": "0aa40688",
   "metadata": {},
   "outputs": [
    {
     "data": {
      "text/plain": [
       "tensor([[0.0248, 0.0000, 0.0000, 0.0000, 0.0000, 0.0000, 0.0000, 0.0000],\n",
       "        [0.0052, 0.0091, 0.0000, 0.0000, 0.0000, 0.0000, 0.0000, 0.0000],\n",
       "        [0.0521, 0.0135, 0.2482, 0.0000, 0.0000, 0.0000, 0.0000, 0.0000],\n",
       "        [0.3171, 0.0214, 0.1642, 0.1188, 0.0000, 0.0000, 0.0000, 0.0000],\n",
       "        [0.0412, 0.0487, 0.1046, 0.0742, 0.2000, 0.0000, 0.0000, 0.0000],\n",
       "        [0.1060, 0.5347, 0.2059, 0.1030, 0.7402, 0.0192, 0.0000, 0.0000],\n",
       "        [0.4298, 0.3409, 0.1769, 0.2027, 0.0480, 0.8472, 0.2329, 0.0000],\n",
       "        [0.0238, 0.0316, 0.1002, 0.5013, 0.0117, 0.1336, 0.7671, 1.0000]],\n",
       "       grad_fn=<SelectBackward0>)"
      ]
     },
     "execution_count": 18,
     "metadata": {},
     "output_type": "execute_result"
    }
   ],
   "source": [
    "torch.manual_seed(1337)\n",
    "\n",
    "b, t, c = 4, 8, 32\n",
    "x = torch.randn(b, t, c)\n",
    "\n",
    "head_size = 16\n",
    "key = nn.Linear(c, head_size, bias=False)\n",
    "query = nn.Linear(c, head_size, bias=False)\n",
    "value = nn.Linear(c, head_size, bias=False)\n",
    "k = key(x) # b x t x 16\n",
    "q = query(x) # b x t x 16\n",
    "v = value(x)\n",
    "weights = q @ k.transpose(-2, -1) # (b x t x 16) @ (b, 16, t) -> (b, t, t)\n",
    "\n",
    "tril = torch.tril(torch.ones(t, t))\n",
    "weights = weights.masked_fill(tril==0, float('-inf'))\n",
    "weights = F.softmax(weights, dim=1)\n",
    "out = weights @ v\n",
    "\n",
    "weights[0]"
   ]
  }
 ],
 "metadata": {
  "kernelspec": {
   "display_name": "venv",
   "language": "python",
   "name": "python3"
  },
  "language_info": {
   "codemirror_mode": {
    "name": "ipython",
    "version": 3
   },
   "file_extension": ".py",
   "mimetype": "text/x-python",
   "name": "python",
   "nbconvert_exporter": "python",
   "pygments_lexer": "ipython3",
   "version": "3.13.5"
  }
 },
 "nbformat": 4,
 "nbformat_minor": 5
}
